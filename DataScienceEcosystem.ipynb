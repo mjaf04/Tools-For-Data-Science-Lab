{
 "cells": [
  {
   "cell_type": "markdown",
   "id": "a09f9999-9f71-4a81-9c33-db73affb7ceb",
   "metadata": {},
   "source": [
    "   # Data Science Tools amd Ecosystem #"
   ]
  },
  {
   "cell_type": "markdown",
   "id": "ca9231ef-b50b-4029-af05-27c04c7fcd26",
   "metadata": {},
   "source": [
    "In this notebook, Data Science Tools and Ecosystem are summarized"
   ]
  },
  {
   "cell_type": "markdown",
   "id": "79d0cd7d-c420-4f31-899d-957e5fa91611",
   "metadata": {},
   "source": [
    "__Objectives:__\n",
    "- List popular programming languages\n",
    "- Commonly used libraries\n",
    "- Evaluatin arithmetic expressions"
   ]
  },
  {
   "cell_type": "markdown",
   "id": "2d7f2d59-d82f-4af0-9b79-4fa64213ab72",
   "metadata": {},
   "source": [
    "Some of the popular languages that Data Scientists use are:\n",
    "\n",
    "1. Python\n",
    "2. R\n",
    "3. SQL"
   ]
  },
  {
   "cell_type": "markdown",
   "id": "189cb581-c251-432e-bbf5-afeb5d465e5c",
   "metadata": {},
   "source": [
    "Some of the commonly used libraries used by Data Scientists include:\n",
    "\n",
    "1. Pandas\n",
    "2. Matplotlib\n",
    "3. Numpy"
   ]
  },
  {
   "cell_type": "markdown",
   "id": "b81fb72c-d3fe-401f-9e41-2c874dad7df7",
   "metadata": {},
   "source": [
    "| Data Science Tools |\n",
    "|--------------------|\n",
    "| R Studio           |\n",
    "| Apache Spark       |\n",
    "| Apache Hadoop      |\n"
   ]
  },
  {
   "cell_type": "markdown",
   "id": "3d67cec6-fb55-4f41-b94d-9af9493389ca",
   "metadata": {},
   "source": [
    "### Below are a few examples of evaluating arithmetic expressions in python ###\n"
   ]
  },
  {
   "cell_type": "code",
   "execution_count": 2,
   "id": "3b2a8a10-91bb-476f-b1db-746e0aa03985",
   "metadata": {},
   "outputs": [
    {
     "data": {
      "text/plain": [
       "17"
      ]
     },
     "execution_count": 2,
     "metadata": {},
     "output_type": "execute_result"
    }
   ],
   "source": [
    "#This is a simple arithmetic expression to multiply then add integers\n",
    "(3*4)+5"
   ]
  },
  {
   "cell_type": "code",
   "execution_count": 3,
   "id": "a0cf121c-2a49-4ba6-9160-89e7601623af",
   "metadata": {},
   "outputs": [
    {
     "data": {
      "text/plain": [
       "3.3333333333333335"
      ]
     },
     "execution_count": 3,
     "metadata": {},
     "output_type": "execute_result"
    }
   ],
   "source": [
    "#This will convert 200 minutes to hours by dividing by 60\n",
    "\n",
    "200/60"
   ]
  },
  {
   "cell_type": "markdown",
   "id": "cb605987-52b9-42cf-bd91-9f66f601fbbb",
   "metadata": {},
   "source": [
    "## Author ##\n",
    "Mohammed Jafri"
   ]
  }
 ],
 "metadata": {
  "kernelspec": {
   "display_name": "Python 3 (ipykernel)",
   "language": "python",
   "name": "python3"
  },
  "language_info": {
   "codemirror_mode": {
    "name": "ipython",
    "version": 3
   },
   "file_extension": ".py",
   "mimetype": "text/x-python",
   "name": "python",
   "nbconvert_exporter": "python",
   "pygments_lexer": "ipython3",
   "version": "3.11.4"
  }
 },
 "nbformat": 4,
 "nbformat_minor": 5
}
